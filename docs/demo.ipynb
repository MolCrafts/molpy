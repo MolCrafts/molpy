{
 "cells": [
  {
   "cell_type": "code",
   "execution_count": 5,
   "metadata": {},
   "outputs": [
    {
     "ename": "ModuleNotFoundError",
     "evalue": "No module named 'molpy'",
     "output_type": "error",
     "traceback": [
      "\u001b[0;31m---------------------------------------------------------------------------\u001b[0m",
      "\u001b[0;31mModuleNotFoundError\u001b[0m                       Traceback (most recent call last)",
      "\u001b[0;32m/tmp/ipykernel_3928/561293064.py\u001b[0m in \u001b[0;36m<module>\u001b[0;34m\u001b[0m\n\u001b[0;32m----> 1\u001b[0;31m \u001b[0;32mimport\u001b[0m \u001b[0mmolpy\u001b[0m \u001b[0;32mas\u001b[0m \u001b[0mmp\u001b[0m\u001b[0;34m\u001b[0m\u001b[0;34m\u001b[0m\u001b[0m\n\u001b[0m\u001b[1;32m      2\u001b[0m \u001b[0;32mimport\u001b[0m \u001b[0mnumpy\u001b[0m \u001b[0;32mas\u001b[0m \u001b[0mnp\u001b[0m\u001b[0;34m\u001b[0m\u001b[0;34m\u001b[0m\u001b[0m\n",
      "\u001b[0;31mModuleNotFoundError\u001b[0m: No module named 'molpy'"
     ]
    }
   ],
   "source": [
    "import molpy as mp\n",
    "import numpy as np"
   ]
  },
  {
   "cell_type": "markdown",
   "metadata": {},
   "source": [
    "## build up a H2O "
   ]
  },
  {
   "cell_type": "code",
   "execution_count": null,
   "metadata": {},
   "outputs": [],
   "source": [
    "O = mp.Atom('O')\n",
    "H1 = mp.Atom('H1')\n",
    "H2 = mp.Atom('H2')\n",
    "O.bondto(H1)\n",
    "O.bondto(H2)"
   ]
  },
  {
   "cell_type": "markdown",
   "metadata": {},
   "source": [
    "## Element and Unit support"
   ]
  },
  {
   "cell_type": "code",
   "execution_count": null,
   "metadata": {},
   "outputs": [],
   "source": [
    "O.element = 'O'\n",
    "print(O.element)"
   ]
  },
  {
   "cell_type": "markdown",
   "metadata": {},
   "source": [
    "## build up a CH4 group"
   ]
  },
  {
   "cell_type": "code",
   "execution_count": null,
   "metadata": {},
   "outputs": [],
   "source": [
    "CH4 = mp.Group('CH4')\n",
    "C = mp.Atom('C')\n",
    "Hs = [mp.Atom(f'H{i}') for i in range(4)]\n",
    "CH4.add(C)\n",
    "for H in Hs:\n",
    "    CH4.add(H)\n",
    "\n",
    "covalentMap = np.zeros((CH4.natoms, CH4.natoms), dtype=int)\n",
    "covalentMap[0, 1:] = covalentMap[1:, 0] = 1\n",
    "CH4.setTopoByCovalentMap(covalentMap)"
   ]
  },
  {
   "cell_type": "markdown",
   "metadata": {},
   "source": [
    "## build up a Molecule from an atom List"
   ]
  },
  {
   "cell_type": "code",
   "execution_count": null,
   "metadata": {},
   "outputs": [],
   "source": [
    "CO2name = ['C', 'O1', 'O2']\n",
    "CO2eles = ['O', 'H', 'H']\n",
    "CO2 = mp.full('CO2', CO2name, element=CO2eles)"
   ]
  },
  {
   "cell_type": "markdown",
   "metadata": {},
   "source": [
    "## get CovalentMap and topology infomation"
   ]
  },
  {
   "cell_type": "code",
   "execution_count": null,
   "metadata": {},
   "outputs": [],
   "source": [
    "CH4.getCovalentMap()\n",
    "CH4.getBonds()\n",
    "CH4.getAngles()"
   ]
  }
 ],
 "metadata": {
  "interpreter": {
   "hash": "8aa754ad295388134173a891d4112c80da19df64bc4d7fbb0892a0e78f490d4d"
  },
  "kernelspec": {
   "display_name": "Python 3.9.7 64-bit ('mse': conda)",
   "name": "python3"
  },
  "language_info": {
   "codemirror_mode": {
    "name": "ipython",
    "version": 3
   },
   "file_extension": ".py",
   "mimetype": "text/x-python",
   "name": "python",
   "nbconvert_exporter": "python",
   "pygments_lexer": "ipython3",
   "version": "3.9.7"
  },
  "orig_nbformat": 4
 },
 "nbformat": 4,
 "nbformat_minor": 2
}
