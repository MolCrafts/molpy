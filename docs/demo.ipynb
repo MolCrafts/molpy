{
 "cells": [
  {
   "cell_type": "code",
   "execution_count": null,
   "metadata": {},
   "outputs": [],
   "source": [
    "import molpy as mp\n",
    "import numpy as np"
   ]
  },
  {
   "cell_type": "markdown",
   "metadata": {},
   "source": [
    "## build up a H2O "
   ]
  },
  {
   "cell_type": "code",
   "execution_count": null,
   "metadata": {},
   "outputs": [],
   "source": [
    "O = mp.Atom('O')\n",
    "H1 = mp.Atom('H1')\n",
    "H2 = mp.Atom('H2')\n",
    "O.bondto(H1)\n",
    "O.bondto(H2)"
   ]
  },
  {
   "cell_type": "markdown",
   "metadata": {},
   "source": [
    "## build up a CH4 group"
   ]
  },
  {
   "cell_type": "code",
   "execution_count": null,
   "metadata": {},
   "outputs": [],
   "source": [
    "CH4 = mp.Group('CH4')\n",
    "C = mp.Atom('C')\n",
    "Hs = [mp.Atom(f'H{i}') for i in range(4)]\n",
    "CH4.add(C)\n",
    "for H in Hs:\n",
    "    CH4.add(H)\n",
    "\n",
    "covalentMap = np.zeros((CH4.natoms, CH4.natoms), dtype=int)\n",
    "covalentMap[0, 1:] = covalentMap[1:, 0] = 1\n",
    "CH4.setTopoByCovalentMap(covalentMap)"
   ]
  }
 ],
 "metadata": {
  "interpreter": {
   "hash": "8aa754ad295388134173a891d4112c80da19df64bc4d7fbb0892a0e78f490d4d"
  },
  "kernelspec": {
   "display_name": "Python 3.9.7 64-bit ('mse': conda)",
   "name": "python3"
  },
  "language_info": {
   "name": "python",
   "version": "3.9.7"
  },
  "orig_nbformat": 4
 },
 "nbformat": 4,
 "nbformat_minor": 2
}
