{
 "cells": [
  {
   "cell_type": "markdown",
   "metadata": {},
   "source": [
    "# 示例"
   ]
  },
  {
   "cell_type": "code",
   "execution_count": null,
   "metadata": {},
   "outputs": [],
   "source": [
    "import molpy as mp\n",
    "import numpy as np"
   ]
  },
  {
   "cell_type": "markdown",
   "metadata": {},
   "source": [
    "## 定义一个原子"
   ]
  },
  {
   "cell_type": "code",
   "execution_count": null,
   "metadata": {},
   "outputs": [],
   "source": [
    "O = mp.Atom('O')  # 必须提供一个独一无二的名字\n",
    "O.anyProperty = 'test'  # 可以任意附加属性\n",
    "O.move(np.array([1, 2, 3]))  # 如果提供了位置可以使用内置的方法"
   ]
  },
  {
   "cell_type": "markdown",
   "metadata": {},
   "source": [
    "## 定义一组原子"
   ]
  },
  {
   "cell_type": "markdown",
   "metadata": {},
   "source": [
    "1. 可以逐个原子定义"
   ]
  },
  {
   "cell_type": "code",
   "execution_count": null,
   "metadata": {},
   "outputs": [],
   "source": [
    "CH4 = mp.Group('CH4')\n",
    "# 定义原子\n",
    "C = mp.Atom('C')\n",
    "Hs = [mp.Atom(f'H{i}') for i in range(4)]\n",
    "CH4.add(C)\n",
    "for H in Hs:\n",
    "    CH4.add(H)\n",
    "    \n",
    "# 定义拓扑结构\n",
    "CH4.addBond(C, Hs[0])\n",
    "CH4.addBond(C, Hs[1])\n",
    "CH4.addBond(C, Hs[2])\n",
    "CH4.addBond(C, Hs[3])"
   ]
  },
  {
   "cell_type": "markdown",
   "metadata": {},
   "source": [
    "2. 可以通过方法生成"
   ]
  },
  {
   "cell_type": "code",
   "execution_count": null,
   "metadata": {},
   "outputs": [],
   "source": [
    "C6 = mp.full('C6', [f'C{i}' for i in range(6)])\n",
    "covalentMap = np.array([[0, 1, 2, 3, 2, 1],\n",
    "                        [1, 0, 1, 2, 3, 2],\n",
    "                        [2, 1, 0, 1, 2, 3],\n",
    "                        [3, 2, 1, 0, 1, 2],\n",
    "                        [2, 3, 2, 1, 0, 1],\n",
    "                        [1, 2, 3, 2, 1, 0]], dtype=int)\n",
    "C6.setTopoByCovalentMap(covalentMap)"
   ]
  },
  {
   "cell_type": "markdown",
   "metadata": {},
   "source": [
    "3. 可以通过读取文件"
   ]
  },
  {
   "cell_type": "code",
   "execution_count": null,
   "metadata": {},
   "outputs": [],
   "source": [
    "L-lactic = mp.fromPDB('l-lactic')"
   ]
  },
  {
   "cell_type": "markdown",
   "metadata": {},
   "source": [
    "## 元素种类和单位的支持"
   ]
  },
  {
   "cell_type": "code",
   "execution_count": null,
   "metadata": {},
   "outputs": [],
   "source": [
    "O.element = 'O'\n",
    "O.mass == 16 * mp.Unit.daltons"
   ]
  },
  {
   "cell_type": "markdown",
   "metadata": {},
   "source": [
    "## build up a CH4 group"
   ]
  },
  {
   "cell_type": "code",
   "execution_count": null,
   "metadata": {},
   "outputs": [],
   "source": [
    "CH4 = mp.Group('CH4')\n",
    "C = mp.Atom('C')\n",
    "Hs = [mp.Atom(f'H{i}') for i in range(4)]\n",
    "CH4.add(C)\n",
    "for H in Hs:\n",
    "    CH4.add(H)\n",
    "\n",
    "covalentMap = np.zeros((CH4.natoms, CH4.natoms), dtype=int)\n",
    "covalentMap[0, 1:] = covalentMap[1:, 0] = 1\n",
    "CH4.setTopoByCovalentMap(covalentMap)"
   ]
  },
  {
   "cell_type": "markdown",
   "metadata": {},
   "source": [
    "## build up a Molecule from an atom List"
   ]
  },
  {
   "cell_type": "code",
   "execution_count": null,
   "metadata": {},
   "outputs": [],
   "source": [
    "CO2name = ['C', 'O1', 'O2']\n",
    "CO2eles = ['O', 'H', 'H']\n",
    "CO2 = mp.full('CO2', CO2name, element=CO2eles)"
   ]
  },
  {
   "cell_type": "markdown",
   "metadata": {},
   "source": [
    "## get CovalentMap and topology infomation"
   ]
  },
  {
   "cell_type": "code",
   "execution_count": null,
   "metadata": {},
   "outputs": [],
   "source": [
    "CH4.getCovalentMap()\n",
    "CH4.getBonds()\n",
    "CH4.getAngles()"
   ]
  }
 ],
 "metadata": {
  "interpreter": {
   "hash": "8aa754ad295388134173a891d4112c80da19df64bc4d7fbb0892a0e78f490d4d"
  },
  "kernelspec": {
   "display_name": "Python 3.9.7 64-bit ('mse': conda)",
   "name": "python3"
  },
  "language_info": {
   "codemirror_mode": {
    "name": "ipython",
    "version": 3
   },
   "file_extension": ".py",
   "mimetype": "text/x-python",
   "name": "python",
   "nbconvert_exporter": "python",
   "pygments_lexer": "ipython3",
   "version": "3.9.7"
  },
  "orig_nbformat": 4
 },
 "nbformat": 4,
 "nbformat_minor": 2
}

