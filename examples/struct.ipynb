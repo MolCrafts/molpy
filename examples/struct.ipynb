{
 "cells": [
  {
   "cell_type": "code",
   "execution_count": null,
   "id": "26c7caba",
   "metadata": {},
   "outputs": [],
   "source": [
    "import molpy as mp\n",
    "# import molvis as mv\n",
    "\n",
    "class Methane(mp.Struct):\n",
    "\n",
    "    def __init__(self):\n",
    "        super().__init__()\n",
    "        C = self.add_atom(name=\"C\",)\n",
    "        H1 = self.add_atom(name=\"H1\", xyz=(-0.1, 0, -0.07))\n",
    "        H2 = self.add_atom(name=\"H2\", xyz=(0., 0.1, 0.07))\n",
    "        H3 = self.add_atom(name=\"H3\", xyz=(0., -0.1, 0.07))\n",
    "        self.add_bond(C, H1)\n",
    "        self.add_bond(C, H2)\n",
    "        self.add_bond(C, H3)\n",
    "\n",
    "methane = Methane()\n",
    "mp.io.write_pdb(\"methane.pdb\", methane)"
   ]
  }
 ],
 "metadata": {
  "language_info": {
   "name": "python"
  }
 },
 "nbformat": 4,
 "nbformat_minor": 5
}
