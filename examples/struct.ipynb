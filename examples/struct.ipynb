{
 "cells": [
  {
   "cell_type": "code",
   "execution_count": 1,
   "id": "26c7caba",
   "metadata": {},
   "outputs": [],
   "source": [
    "%load_ext autoreload\n",
    "%autoreload 2\n",
    "\n",
    "import molpy as mp\n",
    "# import molvis as mv\n",
    "\n",
    "class Methane(mp.Struct):\n",
    "\n",
    "    def __init__(self):\n",
    "        super().__init__()\n",
    "        C = self.add_atom(name=\"C\", xyz=(0.1, 0, -0.07))\n",
    "        H1 = self.add_atom(name=\"H1\", xyz=(-0.1, 0, -0.07))\n",
    "        H2 = self.add_atom(name=\"H2\", xyz=(0., 0.1, 0.07))\n",
    "        H3 = self.add_atom(name=\"H3\", xyz=(0., -0.1, 0.07))\n",
    "        self.add_bond(C, H1)\n",
    "        self.add_bond(C, H2)\n",
    "        self.add_bond(C, H3)\n",
    "\n",
    "methane = Methane()\n",
    "# mp.io.write_pdb(\"methane.pdb\", methane)"
   ]
  },
  {
   "cell_type": "code",
   "execution_count": 2,
   "id": "d39ee60b",
   "metadata": {},
   "outputs": [],
   "source": [
    "class Ethane(mp.Struct):\n",
    "    def __init__(self):\n",
    "        super().__init__()\n",
    "        ch3_1 = mp.builder.CH3()\n",
    "        ch3_1.translate(-ch3_1[\"atoms\"][0].xyz)\n",
    "        ch3_2 = mp.builder.CH3()\n",
    "        ch3_2.translate(-ch3_2[\"atoms\"][0].xyz)\n",
    "        ch3_2.rotate(180, axis=(0, 1, 0))\n",
    "        self.add_struct(ch3_1)\n",
    "        self.add_struct(ch3_2)\n",
    "        self.add_bond(ch3_1[\"atoms\"][0], ch3_2[\"atoms\"][0])\n",
    "\n",
    "ethane = Ethane()\n",
    "# Get topology\n",
    "topology = ethane.get_topology()\n",
    "\n",
    "# Calculate angles and dihedrals\n",
    "angles = ethane.calc_angles(topology)\n",
    "dihedrals = ethane.calc_dihedrals(topology)"
   ]
  },
  {
   "cell_type": "code",
   "execution_count": 7,
   "id": "7966a296",
   "metadata": {},
   "outputs": [
    {
     "data": {
      "text/plain": [
       "<DihedralType: HC-C3-C3-C3>"
      ]
     },
     "execution_count": 7,
     "metadata": {},
     "output_type": "execute_result"
    }
   ],
   "source": [
    "ff = mp.ForceField(\"opls\")\n",
    "atomstyle = ff.def_atomstyle(\"full\")\n",
    "\n",
    "# Define atom types\n",
    "C_type = atomstyle.def_type(\"C3\", charge=-0.18, sigma=3.5, epsilon=0.066)\n",
    "H_type = atomstyle.def_type(\"HC\", charge=0.06, sigma=2.5, epsilon=0.03)\n",
    "\n",
    "# Define bond styles\n",
    "bondstyle = ff.def_bondstyle(\"harmonic\")\n",
    "bondstyle.def_type(C_type, C_type, r0=1.54, k=310)\n",
    "bondstyle.def_type(C_type, H_type, r0=1.09, k=340)\n",
    "\n",
    "# Define angle styles\n",
    "anglestyle = ff.def_anglestyle(\"harmonic\")\n",
    "anglestyle.def_type(H_type, C_type, H_type, theta0=109.5, k=33)\n",
    "anglestyle.def_type(H_type, C_type, C_type, theta0=110.0, k=35)\n",
    "anglestyle.def_type(C_type, C_type, C_type, theta0=112.0, k=40)\n",
    "\n",
    "# Define dihedral styles\n",
    "dihedralstyle = ff.def_dihedralstyle(\"opls\")\n",
    "dihedralstyle.def_type(H_type, C_type, C_type, H_type, c0=0.0, c1=1.0, c2=0.0, c3=-0.5)\n",
    "dihedralstyle.def_type(H_type, C_type, C_type, C_type, c0=0.0, c1=0.5, c2=0.0, c3=-0.25)\n"
   ]
  },
  {
   "cell_type": "code",
   "execution_count": 8,
   "id": "6c3d6645",
   "metadata": {},
   "outputs": [
    {
     "data": {
      "text/plain": [
       "1.09"
      ]
     },
     "execution_count": 8,
     "metadata": {},
     "output_type": "execute_result"
    }
   ],
   "source": [
    "typifier = mp.typifier.Typifier(ff)\n",
    "typifier.typify_bonds(ethane)\n",
    "\n",
    "list(ethane.bonds)\n",
    "ethane.bonds[0][\"$type\"][\"r0\"]"
   ]
  },
  {
   "cell_type": "code",
   "execution_count": null,
   "id": "0557b227",
   "metadata": {},
   "outputs": [],
   "source": [
    "# create ethane mesh\n",
    "offset = 3.5\n",
    "structs = []\n",
    "for i in range(2):\n",
    "    for j in range(2):\n",
    "        for k in range(2):\n",
    "            eth = ethane.copy()\n",
    "            eth.translate((i*offset, j*offset, k*offset))\n",
    "            structs.append(eth)\n",
    "\n",
    "frame = mp.Frame.from_structs(structs)\n",
    "# mp.io.write_pdb(\"ethanes.pdb\", frame)"
   ]
  },
  {
   "cell_type": "code",
   "execution_count": null,
   "id": "3091f8cf",
   "metadata": {},
   "outputs": [],
   "source": [
    "frame[\"bonds\"][\"type\"]"
   ]
  },
  {
   "cell_type": "code",
   "execution_count": 15,
   "id": "b1db8c42",
   "metadata": {},
   "outputs": [
    {
     "name": "stdout",
     "output_type": "stream",
     "text": [
      "Info: acdoctor mode is on: check and diagnose problems in the input file.\n",
      "Info: The atom type is set to gaff; the options available to the -at flag are\n",
      "      gaff, gaff2, amber, bcc, abcg2, and sybyl.\n",
      "\n",
      "-- Check Format for pdb File --\n",
      "   Status: pass\n",
      "\n",
      "Running: /opt/conda/envs/AmberTools25/bin/sqm -O -i sqm.in -o sqm.out\n",
      "\n"
     ]
    },
    {
     "data": {
      "text/plain": [
       "<Struct: 8 atoms>"
      ]
     },
     "execution_count": 15,
     "metadata": {},
     "output_type": "execute_result"
    }
   ],
   "source": [
    "class Ethane(mp.Monomer):\n",
    "    def __init__(self, **props):\n",
    "        super().__init__(**props)\n",
    "        self[\"name\"] = \"ethane\"\n",
    "\n",
    "        # 构造两个 CH3\n",
    "        ch3_1 = mp.builder.CH3()\n",
    "        ch3_1.translate(-ch3_1[\"atoms\"][0].xyz)  # 将碳原子移至原点\n",
    "\n",
    "        ch3_2 = mp.builder.CH3()\n",
    "        ch3_2.rotate(180, axis=(0, 1, 0))  # 反向\n",
    "        ch3_2.translate((1.54, 0, 0))     # 典型 C-C 距离 = 0.154 A\n",
    "\n",
    "        self.add_struct(ch3_1)\n",
    "        self.add_struct(ch3_2)\n",
    "\n",
    "        c1 = ch3_1[\"atoms\"][0]\n",
    "        c2 = ch3_2[\"atoms\"][0]\n",
    "        self.add_bond(c1, c2)\n",
    "\n",
    "ethane = Ethane(\n",
    "    # net_charge=0\n",
    ")\n",
    "ethane.def_link_site(\n",
    "    head=ethane[\"atoms\"][0],\n",
    "    tail=ethane[\"atoms\"][4],\n",
    "    delete=ethane[\"atoms\"][1]\n",
    ")\n",
    "\n",
    "ambertypifier = mp.typifier.AmberToolsTypifier(\"gaff\", \"bcc\")\n",
    "ambertypifier.typify(ethane, workdir=\"./amber\")"
   ]
  },
  {
   "cell_type": "code",
   "execution_count": 9,
   "id": "a6a587a8",
   "metadata": {},
   "outputs": [
    {
     "name": "stdout",
     "output_type": "stream",
     "text": [
      "The autoreload extension is already loaded. To reload it, use:\n",
      "  %reload_ext autoreload\n"
     ]
    }
   ],
   "source": [
    "%load_ext autoreload\n",
    "%autoreload 2\n",
    "\n",
    "import molpy as mp\n",
    "\n",
    "class Carbonyl(mp.Monomer):\n",
    "    def __init__(self, **props):\n",
    "        super().__init__(**props)\n",
    "        self[\"name\"] = \"carbonyl\"\n",
    "        self.add_atom(name=\"C\", type=\"c\", element=\"c\", xyz=(0, 0, 0))\n",
    "        self.add_atom(name=\"O\", type=\"o\", element=\"o\", xyz=(0, 0, 1.2))\n",
    "        self.add_bond(0, 1)\n",
    "\n",
    "class Methylene(mp.Monomer):\n",
    "    def __init__(self, **props):\n",
    "        super().__init__(**props)\n",
    "        self[\"name\"] = \"methylene\"\n",
    "        self.add_atom(name=\"C\", type=\"c\", element=\"c\", xyz=(0, 0, 0))\n",
    "        self.add_atom(name=\"H1\", type=\"h\", element=\"h\", xyz=(0, 0, 1.2))\n",
    "        self.add_atom(name=\"H2\", type=\"h\", element=\"h\", xyz=(0, 0, -1.2))\n",
    "        self.add_bond(0, 1)\n",
    "        self.add_bond(0, 2)\n",
    "\n",
    "class Methyl(mp.Monomer):\n",
    "    def __init__(self, **props):\n",
    "        super().__init__(**props)\n",
    "        self[\"name\"] = \"methyl\"\n",
    "        self.add_atom(name=\"C\", type=\"c\", element=\"c\", xyz=(0, 0, 0))\n",
    "        self.add_atom(name=\"H1\", type=\"h\", element=\"h\", xyz=(0.000, 0.000, 1.090))\n",
    "        self.add_atom(name=\"H2\", type=\"h\", element=\"h\", xyz=(1.026, 0.000, -0.363))\n",
    "        self.add_atom(name=\"H3\", type=\"h\", element=\"h\", xyz=(-0.513, 0.889, -0.363))\n",
    "        self.add_bond(0, 1)\n",
    "        self.add_bond(0, 2)\n",
    "        self.add_bond(0, 3)\n",
    "        "
   ]
  },
  {
   "cell_type": "code",
   "execution_count": null,
   "id": "4e49f8c6",
   "metadata": {},
   "outputs": [],
   "source": [
    "import random\n",
    "n_monomer = 10\n",
    "structs = []\n",
    "\n",
    "head = prev = Methyl()\n",
    "structs.append(head)\n",
    "\n",
    "for i in range(1, n_monomer+1):\n",
    "\n",
    "    # 随机选择一个单体\n",
    "    if random.random() < 0.5:\n",
    "        monomer = Carbonyl()\n",
    "    else:\n",
    "        monomer = Methylene()\n",
    "\n",
    "    monomer.rotate(180*i, axis=(1, 0, 0)).translate([2.95*i, 0, 0])\n",
    "\n",
    "    monomer.def_link_site(\n",
    "        this=monomer[\"atoms\"][0],\n",
    "        that=prev[\"atoms\"][0],\n",
    "    )\n",
    "\n",
    "    structs.append(monomer)\n",
    "\n",
    "    prev = monomer\n",
    "\n",
    "\n",
    "tail = Methyl()\n",
    "tail.rotate(180, axis=(1, 0, 0)).translate([2.95*i, 0, 0])\n",
    "tail.def_link_site(\n",
    "    this=tail[\"atoms\"][0],\n",
    "    that=prev[\"atoms\"][0],\n",
    ")\n",
    "structs.append(tail)"
   ]
  },
  {
   "cell_type": "code",
   "execution_count": 11,
   "id": "bd2c1afb",
   "metadata": {},
   "outputs": [],
   "source": [
    "poly = mp.Polymer(structs)"
   ]
  },
  {
   "cell_type": "code",
   "execution_count": 12,
   "id": "9bc987ff",
   "metadata": {},
   "outputs": [],
   "source": [
    "mp.io.write_pdb(\"polymer.pdb\", poly.to_frame())"
   ]
  },
  {
   "cell_type": "code",
   "execution_count": null,
   "id": "23f33ac2",
   "metadata": {},
   "outputs": [
    {
     "ename": "KeyError",
     "evalue": "'type'",
     "output_type": "error",
     "traceback": [
      "\u001b[0;31m---------------------------------------------------------------------------\u001b[0m",
      "\u001b[0;31mKeyError\u001b[0m                                  Traceback (most recent call last)",
      "Cell \u001b[0;32mIn[16], line 2\u001b[0m\n\u001b[1;32m      1\u001b[0m \u001b[38;5;28;01mfor\u001b[39;00m bond \u001b[38;5;129;01min\u001b[39;00m poly[\u001b[38;5;124m\"\u001b[39m\u001b[38;5;124mbonds\u001b[39m\u001b[38;5;124m\"\u001b[39m]:\n\u001b[0;32m----> 2\u001b[0m     \u001b[38;5;28mprint\u001b[39m(\u001b[43mbond\u001b[49m\u001b[43m[\u001b[49m\u001b[38;5;124;43m\"\u001b[39;49m\u001b[38;5;124;43mtype\u001b[39;49m\u001b[38;5;124;43m\"\u001b[39;49m\u001b[43m]\u001b[49m)\n",
      "File \u001b[0;32m/opt/conda/lib/python3.12/collections/__init__.py:1135\u001b[0m, in \u001b[0;36mUserDict.__getitem__\u001b[0;34m(self, key)\u001b[0m\n\u001b[1;32m   1133\u001b[0m \u001b[38;5;28;01mif\u001b[39;00m \u001b[38;5;28mhasattr\u001b[39m(\u001b[38;5;28mself\u001b[39m\u001b[38;5;241m.\u001b[39m\u001b[38;5;18m__class__\u001b[39m, \u001b[38;5;124m\"\u001b[39m\u001b[38;5;124m__missing__\u001b[39m\u001b[38;5;124m\"\u001b[39m):\n\u001b[1;32m   1134\u001b[0m     \u001b[38;5;28;01mreturn\u001b[39;00m \u001b[38;5;28mself\u001b[39m\u001b[38;5;241m.\u001b[39m\u001b[38;5;18m__class__\u001b[39m\u001b[38;5;241m.\u001b[39m\u001b[38;5;21m__missing__\u001b[39m(\u001b[38;5;28mself\u001b[39m, key)\n\u001b[0;32m-> 1135\u001b[0m \u001b[38;5;28;01mraise\u001b[39;00m \u001b[38;5;167;01mKeyError\u001b[39;00m(key)\n",
      "\u001b[0;31mKeyError\u001b[0m: 'type'"
     ]
    }
   ],
   "source": [
    "forcefield = mp.ForceField(\"opls\")"
   ]
  },
  {
   "cell_type": "code",
   "execution_count": null,
   "id": "7ada30dc",
   "metadata": {},
   "outputs": [],
   "source": []
  }
 ],
 "metadata": {
  "kernelspec": {
   "display_name": "base",
   "language": "python",
   "name": "python3"
  },
  "language_info": {
   "codemirror_mode": {
    "name": "ipython",
    "version": 3
   },
   "file_extension": ".py",
   "mimetype": "text/x-python",
   "name": "python",
   "nbconvert_exporter": "python",
   "pygments_lexer": "ipython3",
   "version": "3.12.8"
  }
 },
 "nbformat": 4,
 "nbformat_minor": 5
}
