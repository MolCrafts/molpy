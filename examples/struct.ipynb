{
 "cells": [
  {
   "cell_type": "code",
   "execution_count": 1,
   "id": "26c7caba",
   "metadata": {},
   "outputs": [],
   "source": [
    "%load_ext autoreload\n",
    "%autoreload 2\n",
    "\n",
    "import molpy as mp\n",
    "# import molvis as mv\n",
    "\n",
    "class Methane(mp.Struct):\n",
    "\n",
    "    def __init__(self):\n",
    "        super().__init__()\n",
    "        C = self.add_atom(name=\"C\", xyz=(0.1, 0, -0.07))\n",
    "        H1 = self.add_atom(name=\"H1\", xyz=(-0.1, 0, -0.07))\n",
    "        H2 = self.add_atom(name=\"H2\", xyz=(0., 0.1, 0.07))\n",
    "        H3 = self.add_atom(name=\"H3\", xyz=(0., -0.1, 0.07))\n",
    "        self.add_bond(C, H1)\n",
    "        self.add_bond(C, H2)\n",
    "        self.add_bond(C, H3)\n",
    "\n",
    "methane = Methane()\n",
    "# mp.io.write_pdb(\"methane.pdb\", methane)"
   ]
  },
  {
   "cell_type": "code",
   "execution_count": 2,
   "id": "d39ee60b",
   "metadata": {},
   "outputs": [],
   "source": [
    "class Ethane(mp.Struct):\n",
    "    def __init__(self):\n",
    "        super().__init__()\n",
    "        ch3_1 = mp.builder.CH3()\n",
    "        ch3_1.translate(-ch3_1[\"atoms\"][0].xyz)\n",
    "        ch3_2 = mp.builder.CH3()\n",
    "        ch3_2.translate(-ch3_2[\"atoms\"][0].xyz)\n",
    "        ch3_2.rotate(180, axis=(0, 1, 0))\n",
    "        self.add_struct(ch3_1)\n",
    "        self.add_struct(ch3_2)\n",
    "        self.add_bond(ch3_1[\"atoms\"][0], ch3_2[\"atoms\"][0])\n",
    "\n",
    "ethane = Ethane()\n",
    "# Get topology\n",
    "topology = ethane.get_topology()\n",
    "\n",
    "# Calculate angles and dihedrals\n",
    "angles = ethane.calc_angles(topology)\n",
    "dihedrals = ethane.calc_dihedrals(topology)"
   ]
  },
  {
   "cell_type": "code",
   "execution_count": 3,
   "id": "7966a296",
   "metadata": {},
   "outputs": [
    {
     "data": {
      "text/plain": [
       "<DihedralType: H-C-C-C>"
      ]
     },
     "execution_count": 3,
     "metadata": {},
     "output_type": "execute_result"
    }
   ],
   "source": [
    "ff = mp.ForceField(\"opls\")\n",
    "atomstyle = ff.def_atomstyle(\"full\")\n",
    "\n",
    "# Define atom types\n",
    "C_type = atomstyle.def_type(\"C\", charge=-0.18, sigma=3.5, epsilon=0.066)\n",
    "H_type = atomstyle.def_type(\"H\", charge=0.06, sigma=2.5, epsilon=0.03)\n",
    "\n",
    "# Define bond styles\n",
    "bondstyle = ff.def_bondstyle(\"harmonic\")\n",
    "bondstyle.def_type(C_type, C_type, r0=1.54, k=310)\n",
    "bondstyle.def_type(C_type, H_type, r0=1.09, k=340)\n",
    "\n",
    "# Define angle styles\n",
    "anglestyle = ff.def_anglestyle(\"harmonic\")\n",
    "anglestyle.def_type(H_type, C_type, H_type, theta0=109.5, k=33)\n",
    "anglestyle.def_type(H_type, C_type, C_type, theta0=110.0, k=35)\n",
    "anglestyle.def_type(C_type, C_type, C_type, theta0=112.0, k=40)\n",
    "\n",
    "# Define dihedral styles\n",
    "dihedralstyle = ff.def_dihedralstyle(\"opls\")\n",
    "dihedralstyle.def_type(H_type, C_type, C_type, H_type, c0=0.0, c1=1.0, c2=0.0, c3=-0.5)\n",
    "dihedralstyle.def_type(H_type, C_type, C_type, C_type, c0=0.0, c1=0.5, c2=0.0, c3=-0.25)\n"
   ]
  },
  {
   "cell_type": "code",
   "execution_count": 4,
   "id": "6c3d6645",
   "metadata": {},
   "outputs": [
    {
     "data": {
      "text/plain": [
       "1.09"
      ]
     },
     "execution_count": 4,
     "metadata": {},
     "output_type": "execute_result"
    }
   ],
   "source": [
    "typifier = mp.typifier.Typifier(ff)\n",
    "typifier.typify_bonds(ethane)\n",
    "\n",
    "list(ethane.bonds)\n",
    "ethane.bonds[0][\"$type\"][\"r0\"]"
   ]
  },
  {
   "cell_type": "code",
   "execution_count": 5,
   "id": "0557b227",
   "metadata": {},
   "outputs": [],
   "source": [
    "# create ethane mesh\n",
    "offset = 3.5\n",
    "structs = []\n",
    "for i in range(2):\n",
    "    for j in range(2):\n",
    "        for k in range(2):\n",
    "            eth = ethane.copy()\n",
    "            eth.translate((i*offset, j*offset, k*offset))\n",
    "            structs.append(eth)\n",
    "\n",
    "frame = mp.Frame.from_structs(structs)\n",
    "# mp.io.write_pdb(\"ethanes.pdb\", frame)"
   ]
  },
  {
   "cell_type": "code",
   "execution_count": 6,
   "id": "3091f8cf",
   "metadata": {},
   "outputs": [
    {
     "data": {
      "text/plain": [
       "array([1, 1, 1, 1, 1, 1, 2, 1, 1, 1, 1, 1, 1, 2, 1, 1, 1, 1, 1, 1, 2, 1,\n",
       "       1, 1, 1, 1, 1, 2, 1, 1, 1, 1, 1, 1, 2, 1, 1, 1, 1, 1, 1, 2, 1, 1,\n",
       "       1, 1, 1, 1, 2, 1, 1, 1, 1, 1, 1, 2])"
      ]
     },
     "execution_count": 6,
     "metadata": {},
     "output_type": "execute_result"
    }
   ],
   "source": [
    "frame[\"bonds\"][\"type\"]"
   ]
  },
  {
   "cell_type": "code",
   "execution_count": null,
   "id": "b1db8c42",
   "metadata": {},
   "outputs": [
    {
     "name": "stdout",
     "output_type": "stream",
     "text": [
      "Info: acdoctor mode is on: check and diagnose problems in the input file.\n",
      "Info: The atom type is set to gaff; the options available to the -at flag are\n",
      "      gaff, gaff2, amber, bcc, abcg2, and sybyl.\n",
      "\n",
      "-- Check Format for pdb File --\n"
     ]
    },
    {
     "name": "stderr",
     "output_type": "stream",
     "text": [
      "/opt/conda/envs/AmberTools25/bin/wrapped_progs/antechamber: Fatal Error!\n",
      "Coordinates must be in Columns 31-38, 39-46 and 47-54 in %8.3format.\n"
     ]
    },
    {
     "ename": "RuntimeError",
     "evalue": "Antechamber failed.",
     "output_type": "error",
     "traceback": [
      "\u001b[0;31m---------------------------------------------------------------------------\u001b[0m",
      "\u001b[0;31mRuntimeError\u001b[0m                              Traceback (most recent call last)",
      "Cell \u001b[0;32mIn[10], line 23\u001b[0m\n\u001b[1;32m     16\u001b[0m ethane\u001b[38;5;241m.\u001b[39mdef_link_site(\n\u001b[1;32m     17\u001b[0m     head\u001b[38;5;241m=\u001b[39methane[\u001b[38;5;124m\"\u001b[39m\u001b[38;5;124matoms\u001b[39m\u001b[38;5;124m\"\u001b[39m][\u001b[38;5;241m0\u001b[39m],\n\u001b[1;32m     18\u001b[0m     tail\u001b[38;5;241m=\u001b[39methane[\u001b[38;5;124m\"\u001b[39m\u001b[38;5;124matoms\u001b[39m\u001b[38;5;124m\"\u001b[39m][\u001b[38;5;241m4\u001b[39m],\n\u001b[1;32m     19\u001b[0m     delete\u001b[38;5;241m=\u001b[39methane[\u001b[38;5;124m\"\u001b[39m\u001b[38;5;124matoms\u001b[39m\u001b[38;5;124m\"\u001b[39m][\u001b[38;5;241m1\u001b[39m]\n\u001b[1;32m     20\u001b[0m )\n\u001b[1;32m     22\u001b[0m ambertypifier \u001b[38;5;241m=\u001b[39m mp\u001b[38;5;241m.\u001b[39mtypifier\u001b[38;5;241m.\u001b[39mAmberToolsTypifier(\u001b[38;5;124m\"\u001b[39m\u001b[38;5;124mgaff\u001b[39m\u001b[38;5;124m\"\u001b[39m, \u001b[38;5;124m\"\u001b[39m\u001b[38;5;124mbcc\u001b[39m\u001b[38;5;124m\"\u001b[39m)\n\u001b[0;32m---> 23\u001b[0m \u001b[43mambertypifier\u001b[49m\u001b[38;5;241;43m.\u001b[39;49m\u001b[43mtypify\u001b[49m\u001b[43m(\u001b[49m\u001b[43methane\u001b[49m\u001b[43m)\u001b[49m\n",
      "File \u001b[0;32m/workspaces/molcrafts/molpy/src/molpy/typifier/typifier.py:135\u001b[0m, in \u001b[0;36mAmberToolsTypifier.typify\u001b[0;34m(self, struct, workdir)\u001b[0m\n\u001b[1;32m    133\u001b[0m result \u001b[38;5;241m=\u001b[39m subprocess\u001b[38;5;241m.\u001b[39mrun([\u001b[38;5;124m\"\u001b[39m\u001b[38;5;124mbash\u001b[39m\u001b[38;5;124m\"\u001b[39m, \u001b[38;5;124m\"\u001b[39m\u001b[38;5;124m-c\u001b[39m\u001b[38;5;124m\"\u001b[39m, bash_cmd], cwd\u001b[38;5;241m=\u001b[39mworkdir)\n\u001b[1;32m    134\u001b[0m \u001b[38;5;28;01mif\u001b[39;00m result\u001b[38;5;241m.\u001b[39mreturncode \u001b[38;5;241m!=\u001b[39m \u001b[38;5;241m0\u001b[39m:\n\u001b[0;32m--> 135\u001b[0m     \u001b[38;5;28;01mraise\u001b[39;00m \u001b[38;5;167;01mRuntimeError\u001b[39;00m(\u001b[38;5;124m\"\u001b[39m\u001b[38;5;124mAntechamber failed.\u001b[39m\u001b[38;5;124m\"\u001b[39m)\n\u001b[1;32m    137\u001b[0m \u001b[38;5;28mprint\u001b[39m(\u001b[38;5;124mf\u001b[39m\u001b[38;5;124m\"\u001b[39m\u001b[38;5;124mAC file written to: \u001b[39m\u001b[38;5;132;01m{\u001b[39;00moutput_ac\u001b[38;5;132;01m}\u001b[39;00m\u001b[38;5;124m\"\u001b[39m)\n",
      "\u001b[0;31mRuntimeError\u001b[0m: Antechamber failed."
     ]
    }
   ],
   "source": [
    "class Ethane(mp.Monomer):\n",
    "    def __init__(self, **props):\n",
    "        super().__init__(**props)\n",
    "        ch3_1 = mp.builder.CH3()\n",
    "        ch3_1.translate(-ch3_1[\"atoms\"][0].xyz)\n",
    "        ch3_2 = mp.builder.CH3()\n",
    "        ch3_2.translate(-ch3_2[\"atoms\"][0].xyz)\n",
    "        ch3_2.rotate(180, axis=(0, 1, 0))\n",
    "        self.add_struct(ch3_1)\n",
    "        self.add_struct(ch3_2)\n",
    "        self.add_bond(ch3_1[\"atoms\"][0], ch3_2[\"atoms\"][0])\n",
    "\n",
    "ethane = Ethane(\n",
    "    net_charge=0\n",
    ")\n",
    "ethane.def_link_site(\n",
    "    head=ethane[\"atoms\"][0],\n",
    "    tail=ethane[\"atoms\"][4],\n",
    "    delete=ethane[\"atoms\"][1]\n",
    ")\n",
    "\n",
    "ambertypifier = mp.typifier.AmberToolsTypifier(\"gaff\", \"bcc\")\n",
    "ambertypifier.typify(ethane, workdir=\".\")"
   ]
  },
  {
   "cell_type": "code",
   "execution_count": null,
   "id": "3f59bcd9",
   "metadata": {},
   "outputs": [],
   "source": []
  }
 ],
 "metadata": {
  "kernelspec": {
   "display_name": "base",
   "language": "python",
   "name": "python3"
  },
  "language_info": {
   "codemirror_mode": {
    "name": "ipython",
    "version": 3
   },
   "file_extension": ".py",
   "mimetype": "text/x-python",
   "name": "python",
   "nbconvert_exporter": "python",
   "pygments_lexer": "ipython3",
   "version": "3.12.8"
  }
 },
 "nbformat": 4,
 "nbformat_minor": 5
}
