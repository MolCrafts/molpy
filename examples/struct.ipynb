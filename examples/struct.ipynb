{
 "cells": [
  {
   "cell_type": "code",
   "execution_count": 2,
   "id": "26c7caba",
   "metadata": {},
   "outputs": [
    {
     "name": "stdout",
     "output_type": "stream",
     "text": [
      "The autoreload extension is already loaded. To reload it, use:\n",
      "  %reload_ext autoreload\n"
     ]
    }
   ],
   "source": [
    "%load_ext autoreload\n",
    "%autoreload 2\n",
    "\n",
    "import molpy as mp\n",
    "# import molvis as mv\n",
    "\n",
    "class Methane(mp.Struct):\n",
    "\n",
    "    def __init__(self):\n",
    "        super().__init__()\n",
    "        C = self.add_atom(name=\"C\", xyz=(0.1, 0, -0.07))\n",
    "        H1 = self.add_atom(name=\"H1\", xyz=(-0.1, 0, -0.07))\n",
    "        H2 = self.add_atom(name=\"H2\", xyz=(0., 0.1, 0.07))\n",
    "        H3 = self.add_atom(name=\"H3\", xyz=(0., -0.1, 0.07))\n",
    "        self.add_bond(C, H1)\n",
    "        self.add_bond(C, H2)\n",
    "        self.add_bond(C, H3)\n",
    "\n",
    "methane = Methane()\n",
    "# mp.io.write_pdb(\"methane.pdb\", methane)"
   ]
  },
  {
   "cell_type": "code",
   "execution_count": null,
   "id": "d39ee60b",
   "metadata": {},
   "outputs": [],
   "source": [
    "ch3 = mp.builder.CH3()\n",
    "ch3.translate(-ch3[\"atoms\"][0].xyz)\n",
    "\n",
    "class Ethane(mp.Struct):\n",
    "\n",
    "    def __init__(self):\n",
    "        super().__init__()\n",
    "        ch3_1 = mp.builder.CH3()\n",
    "        ch3_1.translate(-ch3_1[\"atoms\"][0].xyz)\n",
    "        ch3_2 = mp.builder.CH3()\n",
    "        ch3_2.translate(-ch3_2[\"atoms\"][0].xyz)\n",
    "        ch3_2.rotate(180, axis=(0, 1, 0))\n",
    "        self.add_struct(ch3_1)\n",
    "        self.add_struct(ch3_2)\n",
    "        self.add_bond(ch3_1[\"atoms\"][0], ch3_2[\"atoms\"][0])\n",
    "\n",
    "ethane = Ethane()\n",
    "ethane.calc_angles()\n",
    "ethane.calc_dihedrals()\n",
    "len(ethane[\"atoms\"]) == 8\n",
    "len(ethane[\"bonds\"]) == 7\n",
    "len(ethane[\"angles\"]) == 7\n",
    "len(ethane[\"dihedrals\"]) == 6"
   ]
  },
  {
   "cell_type": "code",
   "execution_count": null,
   "id": "ac2200ab",
   "metadata": {},
   "outputs": [],
   "source": []
  }
 ],
 "metadata": {
  "kernelspec": {
   "display_name": "base",
   "language": "python",
   "name": "python3"
  },
  "language_info": {
   "codemirror_mode": {
    "name": "ipython",
    "version": 3
   },
   "file_extension": ".py",
   "mimetype": "text/x-python",
   "name": "python",
   "nbconvert_exporter": "python",
   "pygments_lexer": "ipython3",
   "version": "3.12.8"
  }
 },
 "nbformat": 4,
 "nbformat_minor": 5
}
