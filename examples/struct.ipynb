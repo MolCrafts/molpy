{
 "cells": [
  {
   "cell_type": "code",
   "execution_count": 1,
   "id": "26c7caba",
   "metadata": {},
   "outputs": [],
   "source": [
    "%load_ext autoreload\n",
    "%autoreload 2\n",
    "\n",
    "import molpy as mp\n",
    "# import molvis as mv\n",
    "\n",
    "class Methane(mp.Struct):\n",
    "\n",
    "    def __init__(self):\n",
    "        super().__init__()\n",
    "        C = self.add_atom(name=\"C\", xyz=(0.1, 0, -0.07))\n",
    "        H1 = self.add_atom(name=\"H1\", xyz=(-0.1, 0, -0.07))\n",
    "        H2 = self.add_atom(name=\"H2\", xyz=(0., 0.1, 0.07))\n",
    "        H3 = self.add_atom(name=\"H3\", xyz=(0., -0.1, 0.07))\n",
    "        self.add_bond(C, H1)\n",
    "        self.add_bond(C, H2)\n",
    "        self.add_bond(C, H3)\n",
    "\n",
    "methane = Methane()\n",
    "# mp.io.write_pdb(\"methane.pdb\", methane)"
   ]
  },
  {
   "cell_type": "code",
   "execution_count": 2,
   "id": "d39ee60b",
   "metadata": {},
   "outputs": [
    {
     "data": {
      "text/plain": [
       "False"
      ]
     },
     "execution_count": 2,
     "metadata": {},
     "output_type": "execute_result"
    }
   ],
   "source": [
    "ch3 = mp.builder.CH3()\n",
    "ch3.translate(-ch3[\"atoms\"][0].xyz)\n",
    "\n",
    "class Ethane(mp.Struct):\n",
    "\n",
    "    def __init__(self):\n",
    "        super().__init__()\n",
    "        ch3_1 = mp.builder.CH3()\n",
    "        ch3_1.translate(-ch3_1[\"atoms\"][0].xyz)\n",
    "        ch3_2 = mp.builder.CH3()\n",
    "        ch3_2.translate(-ch3_2[\"atoms\"][0].xyz)\n",
    "        ch3_2.rotate(180, axis=(0, 1, 0))\n",
    "        self.add_struct(ch3_1)\n",
    "        self.add_struct(ch3_2)\n",
    "        self.add_bond(ch3_1[\"atoms\"][0], ch3_2[\"atoms\"][0])\n",
    "\n",
    "ethane = Ethane()\n",
    "# Get topology\n",
    "topology = ethane.get_topology()\n",
    "\n",
    "# Calculate angles and dihedrals\n",
    "angles = ethane.calc_angles(topology)\n",
    "dihedrals = ethane.calc_dihedrals(topology)\n",
    "len(ethane[\"atoms\"]) == 8\n",
    "len(ethane[\"bonds\"]) == 7\n",
    "len(ethane[\"angles\"]) == 12\n",
    "len(ethane[\"dihedrals\"]) == 9"
   ]
  },
  {
   "cell_type": "code",
   "execution_count": null,
   "id": "7966a296",
   "metadata": {},
   "outputs": [],
   "source": [
    "ff = mp.ForceField(\"test\")\n",
    "atomstyle = ff.def_atomstyle(\"full\")\n",
    "C_type = atomstyle.def_type(\"C\", charge=-0.1)\n",
    "H_type = atomstyle.def_type(\"H\", charge=0.1)\n",
    "bondstyle = ff.def_bondstyle(\"harmonic\")\n",
    "bondstyle.def_type(C_type, C_type, 1.5, 100)\n",
    "bondstyle.def_type(C_type, H_type, 1.1, 100)\n",
    "anglestyle = ff.def_anglestyle(\"harmonic\")\n",
    "anglestyle.def_type(C_type, C_type, H_type, 109.5, 100)\n",
    "anglestyle.def_type(H_type, C_type, H_type, 109.5, 100)\n",
    "dihedralstyle = ff.def_dihedralstyle(\"harmonic\")\n",
    "dihedralstyle.def_type(H_type, C_type, C_type, H_type, 0, 100)\n"
   ]
  },
  {
   "cell_type": "code",
   "execution_count": 11,
   "id": "6c3d6645",
   "metadata": {},
   "outputs": [
    {
     "data": {
      "text/plain": [
       "[<Angle: C-C-H1>,\n",
       " <Angle: C-C-H2>,\n",
       " <Angle: C-C-H3>,\n",
       " <Angle: H1-C-H2>,\n",
       " <Angle: H1-C-H3>,\n",
       " <Angle: H1-C-C>,\n",
       " <Angle: H2-C-H3>,\n",
       " <Angle: H2-C-C>,\n",
       " <Angle: H3-C-C>,\n",
       " <Angle: H1-C-H2>,\n",
       " <Angle: H1-C-H3>,\n",
       " <Angle: H2-C-H3>]"
      ]
     },
     "execution_count": 11,
     "metadata": {},
     "output_type": "execute_result"
    }
   ],
   "source": [
    "angles"
   ]
  },
  {
   "cell_type": "code",
   "execution_count": 4,
   "id": "ac2200ab",
   "metadata": {},
   "outputs": [
    {
     "data": {
      "text/plain": [
       "0"
      ]
     },
     "execution_count": 4,
     "metadata": {},
     "output_type": "execute_result"
    }
   ],
   "source": [
    "len(ethane[\"dihedrals\"])"
   ]
  },
  {
   "cell_type": "code",
   "execution_count": 5,
   "id": "048cd681",
   "metadata": {},
   "outputs": [
    {
     "data": {
      "text/plain": [
       "8"
      ]
     },
     "execution_count": 5,
     "metadata": {},
     "output_type": "execute_result"
    }
   ],
   "source": [
    "len(ethane[\"atoms\"])"
   ]
  },
  {
   "cell_type": "code",
   "execution_count": 6,
   "id": "cf122244",
   "metadata": {},
   "outputs": [
    {
     "data": {
      "text/plain": [
       "7"
      ]
     },
     "execution_count": 6,
     "metadata": {},
     "output_type": "execute_result"
    }
   ],
   "source": [
    "len(ethane[\"bonds\"])"
   ]
  },
  {
   "cell_type": "code",
   "execution_count": null,
   "id": "aaf2ce76",
   "metadata": {},
   "outputs": [],
   "source": []
  }
 ],
 "metadata": {
  "kernelspec": {
   "display_name": "base",
   "language": "python",
   "name": "python3"
  },
  "language_info": {
   "codemirror_mode": {
    "name": "ipython",
    "version": 3
   },
   "file_extension": ".py",
   "mimetype": "text/x-python",
   "name": "python",
   "nbconvert_exporter": "python",
   "pygments_lexer": "ipython3",
   "version": "3.12.2"
  }
 },
 "nbformat": 4,
 "nbformat_minor": 5
}
