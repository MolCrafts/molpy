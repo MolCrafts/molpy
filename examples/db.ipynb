{
 "cells": [
  {
   "cell_type": "code",
   "execution_count": 21,
   "id": "df03aa18",
   "metadata": {},
   "outputs": [],
   "source": [
    "import h5py"
   ]
  },
  {
   "cell_type": "code",
   "execution_count": 22,
   "id": "a7e1e42c",
   "metadata": {},
   "outputs": [
    {
     "name": "stdout",
     "output_type": "stream",
     "text": [
      "<KeysViewHDF5 ['h5md', 'observables', 'parameters', 'particles']>\n"
     ]
    }
   ],
   "source": [
    "f = h5py.File('/workspaces/molpy/tests/chemfile-testcases/h5df/litfsi.h5', 'r')\n",
    "print(f.keys())"
   ]
  },
  {
   "cell_type": "code",
   "execution_count": 26,
   "id": "743f73d9",
   "metadata": {},
   "outputs": [
    {
     "data": {
      "text/plain": [
       "<KeysViewHDF5 ['step', 'time', 'value']>"
      ]
     },
     "execution_count": 26,
     "metadata": {},
     "output_type": "execute_result"
    }
   ],
   "source": [
    "f['particles/all/position'].keys()"
   ]
  },
  {
   "cell_type": "code",
   "execution_count": null,
   "id": "fc2af3dc",
   "metadata": {},
   "outputs": [
    {
     "name": "stdout",
     "output_type": "stream",
     "text": [
      "The autoreload extension is already loaded. To reload it, use:\n",
      "  %reload_ext autoreload\n"
     ]
    },
    {
     "ename": "AttributeError",
     "evalue": "'rMD17' object has no attribute 'save_dir'",
     "output_type": "error",
     "traceback": [
      "\u001b[31m---------------------------------------------------------------------------\u001b[39m",
      "\u001b[31mAttributeError\u001b[39m                            Traceback (most recent call last)",
      "\u001b[36mCell\u001b[39m\u001b[36m \u001b[39m\u001b[32mIn[3]\u001b[39m\u001b[32m, line 5\u001b[39m\n\u001b[32m      2\u001b[39m get_ipython().run_line_magic(\u001b[33m'\u001b[39m\u001b[33mautoreload\u001b[39m\u001b[33m'\u001b[39m, \u001b[33m'\u001b[39m\u001b[33m2\u001b[39m\u001b[33m'\u001b[39m)\n\u001b[32m      3\u001b[39m \u001b[38;5;28;01mfrom\u001b[39;00m\u001b[38;5;250m \u001b[39m\u001b[34;01mmolpy\u001b[39;00m\u001b[34;01m.\u001b[39;00m\u001b[34;01mdb\u001b[39;00m\u001b[34;01m.\u001b[39;00m\u001b[34;01mdataset\u001b[39;00m\u001b[34;01m.\u001b[39;00m\u001b[34;01mrmd17\u001b[39;00m\u001b[38;5;250m \u001b[39m\u001b[38;5;28;01mimport\u001b[39;00m rMD17\n\u001b[32m----> \u001b[39m\u001b[32m5\u001b[39m rmd17 = \u001b[43mrMD17\u001b[49m\u001b[43m(\u001b[49m\u001b[43msave_dir\u001b[49m\u001b[43m=\u001b[49m\u001b[33;43m\"\u001b[39;49m\u001b[33;43m/tmp/qm9\u001b[39;49m\u001b[33;43m\"\u001b[39;49m\u001b[43m,\u001b[49m\u001b[43m \u001b[49m\u001b[43mmolecule\u001b[49m\u001b[43m=\u001b[49m\u001b[33;43m\"\u001b[39;49m\u001b[33;43maspirin\u001b[39;49m\u001b[33;43m\"\u001b[39;49m\u001b[43m)\u001b[49m.download().parse()\n",
      "\u001b[36mFile \u001b[39m\u001b[32m/workspaces/molpy/src/molpy/db/dataset/rmd17.py:82\u001b[39m, in \u001b[36mrMD17.__init__\u001b[39m\u001b[34m(self, save_dir, molecule)\u001b[39m\n\u001b[32m     77\u001b[39m \u001b[38;5;28;01mif\u001b[39;00m molecule \u001b[38;5;129;01mnot\u001b[39;00m \u001b[38;5;129;01min\u001b[39;00m molecules:\n\u001b[32m     78\u001b[39m     \u001b[38;5;28;01mraise\u001b[39;00m \u001b[38;5;167;01mValueError\u001b[39;00m(\n\u001b[32m     79\u001b[39m         \u001b[33mf\u001b[39m\u001b[33m\"\u001b[39m\u001b[33mInvalid molecule. Choose from \u001b[39m\u001b[38;5;132;01m{\u001b[39;00mmolecules\u001b[38;5;132;01m}\u001b[39;00m\u001b[33m. Got \u001b[39m\u001b[38;5;132;01m{\u001b[39;00mmolecule\u001b[38;5;132;01m}\u001b[39;00m\u001b[33m\"\u001b[39m\n\u001b[32m     80\u001b[39m     )\n\u001b[32m---> \u001b[39m\u001b[32m82\u001b[39m \u001b[38;5;28;01mif\u001b[39;00m \u001b[38;5;28misinstance\u001b[39m(\u001b[38;5;28;43mself\u001b[39;49m\u001b[43m.\u001b[49m\u001b[43msave_dir\u001b[49m, Path):\n\u001b[32m     83\u001b[39m     \u001b[38;5;28mself\u001b[39m.archive_path = \u001b[38;5;28mself\u001b[39m.save_dir / \u001b[33m\"\u001b[39m\u001b[33mrmd17.tar.gz\u001b[39m\u001b[33m\"\u001b[39m\n\u001b[32m     84\u001b[39m     \u001b[38;5;28mself\u001b[39m.npz_path = (\n\u001b[32m     85\u001b[39m         \u001b[38;5;28mself\u001b[39m.save_dir / \u001b[38;5;28mself\u001b[39m.molecule / \u001b[38;5;28mself\u001b[39m.datasets_dict[\u001b[38;5;28mself\u001b[39m.molecule]\n\u001b[32m     86\u001b[39m     )  \u001b[38;5;66;03m# save_dir/aspirin/rmd17_aspirin.npz\u001b[39;00m\n",
      "\u001b[31mAttributeError\u001b[39m: 'rMD17' object has no attribute 'save_dir'"
     ]
    }
   ],
   "source": [
    "%load_ext autoreload\n",
    "%autoreload 2\n",
    "from molpy.db.dataset.rmd17 import rMD17\n",
    "\n",
    "rmd17 = rMD17(save_dir=\"/tmp\", molecule=\"aspirin\").download().parse()"
   ]
  },
  {
   "cell_type": "code",
   "execution_count": null,
   "id": "1be3c08a",
   "metadata": {},
   "outputs": [],
   "source": []
  }
 ],
 "metadata": {
  "kernelspec": {
   "display_name": "base",
   "language": "python",
   "name": "python3"
  },
  "language_info": {
   "codemirror_mode": {
    "name": "ipython",
    "version": 3
   },
   "file_extension": ".py",
   "mimetype": "text/x-python",
   "name": "python",
   "nbconvert_exporter": "python",
   "pygments_lexer": "ipython3",
   "version": "3.12.9"
  }
 },
 "nbformat": 4,
 "nbformat_minor": 5
}
