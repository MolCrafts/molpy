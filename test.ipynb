{
 "cells": [
  {
   "cell_type": "code",
   "execution_count": 1,
   "metadata": {},
   "outputs": [
    {
     "data": {
      "text/plain": [
       "molpy.system.System"
      ]
     },
     "execution_count": 1,
     "metadata": {},
     "output_type": "execute_result"
    }
   ],
   "source": [
    "import numpy as np\n",
    "import importlib\n",
    "import ase\n",
    "mp = importlib.import_module(\"molpy\")\n",
    "# from molpy.base import Node\n",
    "Atom = mp.Atom\n",
    "Group = mp.Group\n",
    "mp.System"
   ]
  },
  {
   "cell_type": "code",
   "execution_count": 2,
   "metadata": {},
   "outputs": [
    {
     "name": "stdout",
     "output_type": "stream",
     "text": [
      "<molpy.element.Element object at 0x00000239D5919760>\n",
      "UNK1\n"
     ]
    }
   ],
   "source": [
    "# define atoms in H2O\n",
    "H1 = Atom('H1')\n",
    "H2 = Atom('H2')\n",
    "O  = Atom('O')\n",
    "\n",
    "# define topology connection\n",
    "O.bondto(H1)\n",
    "O.bondto(H2)\n",
    "\n",
    "# define molecule\n",
    "H2O = Group('H2O')\n",
    "\n",
    "# add atoms to the molecule\n",
    "H2O.addAtoms([H1, H2, O])\n",
    "H2O.addBond(O, H1)\n",
    "H2O.addBond(O, H2)\n",
    "\n",
    "O.element = \"O\"\n",
    "print(O.element)\n",
    "O.setElement(\"UNK\")\n",
    "O.Element = \"UNK1\"\n",
    "print(O.Element)"
   ]
  },
  {
   "cell_type": "code",
   "execution_count": 3,
   "metadata": {},
   "outputs": [],
   "source": [
    "CC_bond = 1.42\n",
    "GRA = ase.build.graphene_nanoribbon(10, 10, vacuum = CC_bond/2)\n",
    "GRA.cell[1] = [0, 20, 0]\n",
    "GRA.positions[:,1] = 10\n",
    "GRA.pbc = [True, True, True]\n",
    "ase.io.write(\"GRA.cif\", GRA)\n",
    "GRA_sys = mp.fromASE_S(GRA)"
   ]
  },
  {
   "cell_type": "code",
   "execution_count": 4,
   "metadata": {},
   "outputs": [
    {
     "name": "stdout",
     "output_type": "stream",
     "text": [
      "< System C200 >\n"
     ]
    },
    {
     "ename": "AttributeError",
     "evalue": "'Box' object has no attribute 'matrix'",
     "output_type": "error",
     "traceback": [
      "\u001b[1;31m---------------------------------------------------------------------------\u001b[0m",
      "\u001b[1;31mAttributeError\u001b[0m                            Traceback (most recent call last)",
      "\u001b[1;32m<ipython-input-4-92b556f8b328>\u001b[0m in \u001b[0;36m<module>\u001b[1;34m\u001b[0m\n\u001b[1;32m----> 1\u001b[1;33m \u001b[0mmp\u001b[0m\u001b[1;33m.\u001b[0m\u001b[0mbuild_neigh\u001b[0m\u001b[1;33m(\u001b[0m\u001b[0mGRA_sys\u001b[0m\u001b[1;33m)\u001b[0m\u001b[1;33m\u001b[0m\u001b[1;33m\u001b[0m\u001b[0m\n\u001b[0m\u001b[0;32m      2\u001b[0m \u001b[0mmp\u001b[0m\u001b[1;33m.\u001b[0m\u001b[0mauto_bonds\u001b[0m\u001b[1;33m(\u001b[0m\u001b[0mGRA_sys\u001b[0m\u001b[1;33m)\u001b[0m\u001b[1;33m\u001b[0m\u001b[1;33m\u001b[0m\u001b[0m\n",
      "\u001b[1;32md:\\Project\\molpy\\molpy\\neigh.py\u001b[0m in \u001b[0;36mbuild_neigh\u001b[1;34m(sysObj, cutoff, build_style)\u001b[0m\n\u001b[0;32m      8\u001b[0m \u001b[1;32mdef\u001b[0m \u001b[0mbuild_neigh\u001b[0m\u001b[1;33m(\u001b[0m\u001b[0msysObj\u001b[0m\u001b[1;33m:\u001b[0m \u001b[0mSystem\u001b[0m\u001b[1;33m,\u001b[0m \u001b[0mcutoff\u001b[0m \u001b[1;33m:\u001b[0m \u001b[0mFloatOpt\u001b[0m \u001b[1;33m=\u001b[0m\u001b[1;32mNone\u001b[0m\u001b[1;33m,\u001b[0m \u001b[0mbuild_style\u001b[0m\u001b[1;33m:\u001b[0m \u001b[0mstr\u001b[0m \u001b[1;33m=\u001b[0m \u001b[1;34m\"ASE\"\u001b[0m\u001b[1;33m)\u001b[0m \u001b[1;33m->\u001b[0m \u001b[1;32mNone\u001b[0m\u001b[1;33m:\u001b[0m\u001b[1;33m\u001b[0m\u001b[1;33m\u001b[0m\u001b[0m\n\u001b[0;32m      9\u001b[0m     \u001b[1;32mif\u001b[0m \u001b[0mbuild_style\u001b[0m \u001b[1;33m==\u001b[0m \u001b[1;34m\"ASE\"\u001b[0m\u001b[1;33m:\u001b[0m\u001b[1;33m\u001b[0m\u001b[1;33m\u001b[0m\u001b[0m\n\u001b[1;32m---> 10\u001b[1;33m         \u001b[1;32mreturn\u001b[0m \u001b[0mbuild_ASE_neigh\u001b[0m\u001b[1;33m(\u001b[0m\u001b[0msysObj\u001b[0m\u001b[1;33m,\u001b[0m \u001b[0mcutoff\u001b[0m\u001b[1;33m)\u001b[0m\u001b[1;33m\u001b[0m\u001b[1;33m\u001b[0m\u001b[0m\n\u001b[0m\u001b[0;32m     11\u001b[0m     \u001b[1;32melse\u001b[0m\u001b[1;33m:\u001b[0m\u001b[1;33m\u001b[0m\u001b[1;33m\u001b[0m\u001b[0m\n\u001b[0;32m     12\u001b[0m         raise NotImplementedError(\n",
      "\u001b[1;32md:\\Project\\molpy\\molpy\\io\\ase.py\u001b[0m in \u001b[0;36mbuild_ASE_neigh\u001b[1;34m(sysObj, cutoff)\u001b[0m\n\u001b[0;32m    120\u001b[0m \u001b[1;33m\u001b[0m\u001b[0m\n\u001b[0;32m    121\u001b[0m \u001b[1;32mdef\u001b[0m \u001b[0mbuild_ASE_neigh\u001b[0m\u001b[1;33m(\u001b[0m\u001b[0msysObj\u001b[0m\u001b[1;33m:\u001b[0m \u001b[0mSystem\u001b[0m\u001b[1;33m,\u001b[0m \u001b[0mcutoff\u001b[0m \u001b[1;33m:\u001b[0m \u001b[0mFloatOpt\u001b[0m \u001b[1;33m=\u001b[0m\u001b[1;32mNone\u001b[0m\u001b[1;33m)\u001b[0m \u001b[1;33m->\u001b[0m \u001b[1;32mNone\u001b[0m\u001b[1;33m:\u001b[0m\u001b[1;33m\u001b[0m\u001b[1;33m\u001b[0m\u001b[0m\n\u001b[1;32m--> 122\u001b[1;33m     \u001b[0matoms\u001b[0m \u001b[1;33m=\u001b[0m \u001b[0mtoASE_atoms\u001b[0m\u001b[1;33m(\u001b[0m\u001b[0msysObj\u001b[0m\u001b[1;33m)\u001b[0m\u001b[1;33m\u001b[0m\u001b[1;33m\u001b[0m\u001b[0m\n\u001b[0m\u001b[0;32m    123\u001b[0m     \u001b[0mnatoms\u001b[0m \u001b[1;33m=\u001b[0m \u001b[0mlen\u001b[0m\u001b[1;33m(\u001b[0m\u001b[0matoms\u001b[0m\u001b[1;33m)\u001b[0m\u001b[1;33m\u001b[0m\u001b[1;33m\u001b[0m\u001b[0m\n\u001b[0;32m    124\u001b[0m     \u001b[1;32mif\u001b[0m \u001b[0mcutoff\u001b[0m \u001b[1;32mis\u001b[0m \u001b[1;32mNone\u001b[0m\u001b[1;33m:\u001b[0m\u001b[1;33m\u001b[0m\u001b[1;33m\u001b[0m\u001b[0m\n",
      "\u001b[1;32md:\\Project\\molpy\\molpy\\io\\ase.py\u001b[0m in \u001b[0;36mtoASE_atoms\u001b[1;34m(mpObj)\u001b[0m\n\u001b[0;32m    116\u001b[0m         \u001b[1;32mreturn\u001b[0m \u001b[0mASE_atoms\u001b[0m\u001b[1;33m(\u001b[0m\u001b[0msymbols\u001b[0m\u001b[1;33m,\u001b[0m \u001b[0mpositions\u001b[0m\u001b[1;33m)\u001b[0m\u001b[1;33m\u001b[0m\u001b[1;33m\u001b[0m\u001b[0m\n\u001b[0;32m    117\u001b[0m     \u001b[1;32melif\u001b[0m \u001b[0misinstance\u001b[0m\u001b[1;33m(\u001b[0m\u001b[0mmpObj\u001b[0m\u001b[1;33m,\u001b[0m \u001b[0mSystem\u001b[0m\u001b[1;33m)\u001b[0m\u001b[1;33m:\u001b[0m\u001b[1;33m\u001b[0m\u001b[1;33m\u001b[0m\u001b[0m\n\u001b[1;32m--> 118\u001b[1;33m         \u001b[1;32mreturn\u001b[0m \u001b[0mASE_atoms\u001b[0m\u001b[1;33m(\u001b[0m\u001b[0msymbols\u001b[0m\u001b[1;33m,\u001b[0m \u001b[0mpositions\u001b[0m\u001b[1;33m,\u001b[0m \u001b[0mcell\u001b[0m\u001b[1;33m=\u001b[0m\u001b[0mmpObj\u001b[0m\u001b[1;33m.\u001b[0m\u001b[0mcell\u001b[0m\u001b[1;33m.\u001b[0m\u001b[0mmatrix\u001b[0m\u001b[1;33m,\u001b[0m \u001b[0mpbc\u001b[0m\u001b[1;33m=\u001b[0m\u001b[0mmpObj\u001b[0m\u001b[1;33m.\u001b[0m\u001b[0mcell\u001b[0m\u001b[1;33m.\u001b[0m\u001b[0mpbc\u001b[0m\u001b[1;33m)\u001b[0m\u001b[1;33m\u001b[0m\u001b[1;33m\u001b[0m\u001b[0m\n\u001b[0m\u001b[0;32m    119\u001b[0m \u001b[1;33m\u001b[0m\u001b[0m\n\u001b[0;32m    120\u001b[0m \u001b[1;33m\u001b[0m\u001b[0m\n",
      "\u001b[1;31mAttributeError\u001b[0m: 'Box' object has no attribute 'matrix'"
     ]
    }
   ],
   "source": [
    "mp.build_neigh(GRA_sys)\n",
    "mp.auto_bonds(GRA_sys)"
   ]
  },
  {
   "cell_type": "code",
   "execution_count": null,
   "metadata": {},
   "outputs": [],
   "source": []
  }
 ],
 "metadata": {
  "interpreter": {
   "hash": "d07d65f069763699be100d8ef6695abb123bbb0b43bc575093d92b531a8a99e7"
  },
  "kernelspec": {
   "display_name": "Python 3.8.8 64-bit ('anaconda3': pyenv)",
   "language": "python",
   "name": "python3"
  },
  "language_info": {
   "codemirror_mode": {
    "name": "ipython",
    "version": 3
   },
   "file_extension": ".py",
   "mimetype": "text/x-python",
   "name": "python",
   "nbconvert_exporter": "python",
   "pygments_lexer": "ipython3",
   "version": "3.8.8"
  },
  "orig_nbformat": 4
 },
 "nbformat": 4,
 "nbformat_minor": 2
}
