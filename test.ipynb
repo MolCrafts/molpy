{
 "cells": [
  {
   "cell_type": "code",
   "execution_count": 24,
   "metadata": {},
   "outputs": [
    {
     "data": {
      "text/plain": [
       "molpy.system.System"
      ]
     },
     "execution_count": 24,
     "metadata": {},
     "output_type": "execute_result"
    }
   ],
   "source": [
    "import numpy as np\n",
    "import importlib\n",
    "import ase\n",
    "mp = importlib.import_module(\"molpy\")\n",
    "# from molpy.base import Node\n",
    "Atom = mp.Atom\n",
    "Group = mp.Group\n",
    "mp.System"
   ]
  },
  {
   "cell_type": "code",
   "execution_count": 25,
   "metadata": {},
   "outputs": [
    {
     "name": "stdout",
     "output_type": "stream",
     "text": [
      "<molpy.element.Element object at 0x00000193A6E98700>\n",
      "UNK1\n"
     ]
    }
   ],
   "source": [
    "# define atoms in H2O\n",
    "H1 = Atom('H1')\n",
    "H2 = Atom('H2')\n",
    "O  = Atom('O')\n",
    "\n",
    "# define topology connection\n",
    "O.bondto(H1)\n",
    "O.bondto(H2)\n",
    "\n",
    "# define molecule\n",
    "H2O = Group('H2O')\n",
    "\n",
    "# add atoms to the molecule\n",
    "H2O.addAtoms([H1, H2, O])\n",
    "H2O.addBond(O, H1)\n",
    "H2O.addBond(O, H2)\n",
    "\n",
    "O.element = \"O\"\n",
    "print(O.element)\n",
    "O.setElement(\"UNK\")\n",
    "O.Element = \"UNK1\"\n",
    "print(O.Element)"
   ]
  },
  {
   "cell_type": "code",
   "execution_count": 26,
   "metadata": {},
   "outputs": [],
   "source": [
    "CC_bond = 1.42\n",
    "GRA = ase.build.graphene_nanoribbon(10, 10, vacuum = CC_bond/2)\n",
    "GRA.cell[1] = [0, 20, 0]\n",
    "GRA.positions[:,1] = 10\n",
    "GRA.pbc = [True, True, True]\n",
    "ase.io.write(\"GRA.cif\", GRA)\n",
    "GRA_sys = mp.fromASE_S(GRA)"
   ]
  },
  {
   "cell_type": "code",
   "execution_count": 27,
   "metadata": {},
   "outputs": [
    {
     "name": "stdout",
     "output_type": "stream",
     "text": [
      "< System C200 >\n"
     ]
    }
   ],
   "source": [
    "mp.build_neigh(GRA_sys)\n",
    "mp.auto_bonds(GRA_sys)"
   ]
  },
  {
   "cell_type": "code",
   "execution_count": 28,
   "metadata": {},
   "outputs": [],
   "source": [
    "Ni = ase.io.read(\"./tests/samples/Ni.cif\")"
   ]
  },
  {
   "cell_type": "code",
   "execution_count": 29,
   "metadata": {},
   "outputs": [],
   "source": [
    "ase_cell = Ni.cell"
   ]
  },
  {
   "cell_type": "code",
   "execution_count": 30,
   "metadata": {},
   "outputs": [
    {
     "data": {
      "text/plain": [
       "Cell([[2.757716, 0.0, 0.0], [1.3788581667314475, 2.388252016160353, 0.0], [1.3788581667314475, 0.7960840695617433, 2.2516655717232976]])"
      ]
     },
     "execution_count": 30,
     "metadata": {},
     "output_type": "execute_result"
    }
   ],
   "source": [
    "ase_cell"
   ]
  },
  {
   "cell_type": "code",
   "execution_count": 31,
   "metadata": {},
   "outputs": [],
   "source": [
    "angles = ase_cell.angles()\n",
    "lengths = ase_cell.lengths()"
   ]
  },
  {
   "cell_type": "code",
   "execution_count": 32,
   "metadata": {},
   "outputs": [],
   "source": [
    "lbox = lengths[0]\n",
    "box = mp.Box(\"ppp\", lx = lbox, ly = lbox, lz = lbox, alpha = angles[0], beta = angles[1], gamma = angles[2])"
   ]
  },
  {
   "cell_type": "code",
   "execution_count": 33,
   "metadata": {},
   "outputs": [
    {
     "data": {
      "text/plain": [
       "array([59.999996, 59.999996, 59.999996])"
      ]
     },
     "execution_count": 33,
     "metadata": {},
     "output_type": "execute_result"
    }
   ],
   "source": [
    "box.angles()"
   ]
  },
  {
   "cell_type": "code",
   "execution_count": 34,
   "metadata": {},
   "outputs": [],
   "source": [
    "cell_v = box._cellpar.T"
   ]
  },
  {
   "cell_type": "code",
   "execution_count": 35,
   "metadata": {},
   "outputs": [
    {
     "name": "stderr",
     "output_type": "stream",
     "text": [
      "d:\\Project\\molpy\\molpy\\box.py:83: RuntimeWarning: divide by zero encountered in true_divide\n",
      "  self.xz = a3x/self.lz\n",
      "d:\\Project\\molpy\\molpy\\box.py:84: RuntimeWarning: divide by zero encountered in true_divide\n",
      "  self.yz = (a2@a3-a2x*a3x)/self.ly/self.lz\n",
      "d:\\Project\\molpy\\molpy\\box.py:127: RuntimeWarning: invalid value encountered in multiply\n",
      "  [self.lx, self.xy*self.ly, self.xz*self.lz],\n",
      "d:\\Project\\molpy\\molpy\\box.py:128: RuntimeWarning: invalid value encountered in multiply\n",
      "  [0, self.ly, self.yz*self.lz],\n",
      "d:\\Project\\molpy\\molpy\\box.py:126: VisibleDeprecationWarning: Creating an ndarray from ragged nested sequences (which is a list-or-tuple of lists-or-tuples-or ndarrays with different lengths or shapes) is deprecated. If you meant to do this, you must specify 'dtype=object' when creating the ndarray.\n",
      "  self._cellpar = np.array([\n"
     ]
    }
   ],
   "source": [
    "box = mp.Box(\"ppp\", a1 = cell_v[0], a2 = cell_v[1], a3 = cell_v[2],)"
   ]
  },
  {
   "cell_type": "code",
   "execution_count": 36,
   "metadata": {},
   "outputs": [
    {
     "data": {
      "text/plain": [
       "14.829741449810445"
      ]
     },
     "execution_count": 36,
     "metadata": {},
     "output_type": "execute_result"
    }
   ],
   "source": [
    "ase_cell.volume"
   ]
  },
  {
   "cell_type": "code",
   "execution_count": 37,
   "metadata": {},
   "outputs": [
    {
     "data": {
      "text/plain": [
       "array([[2.757716, 1.1941261524738398,\n",
       "        array([       nan,        nan, 1.12583292])],\n",
       "       [0, 2.388252016160353,\n",
       "        array([       nan,        nan, 0.64999989])],\n",
       "       [0, 0, array([0.        , 0.        , 2.25166557])]], dtype=object)"
      ]
     },
     "execution_count": 37,
     "metadata": {},
     "output_type": "execute_result"
    }
   ],
   "source": [
    "box._cellpar"
   ]
  },
  {
   "cell_type": "code",
   "execution_count": 38,
   "metadata": {},
   "outputs": [
    {
     "data": {
      "text/plain": [
       "14.829741449810445"
      ]
     },
     "execution_count": 38,
     "metadata": {},
     "output_type": "execute_result"
    }
   ],
   "source": [
    "ase_cell.volume"
   ]
  },
  {
   "cell_type": "code",
   "execution_count": null,
   "metadata": {},
   "outputs": [],
   "source": []
  }
 ],
 "metadata": {
  "interpreter": {
   "hash": "d07d65f069763699be100d8ef6695abb123bbb0b43bc575093d92b531a8a99e7"
  },
  "kernelspec": {
   "display_name": "Python 3.8.8 64-bit ('anaconda3': pyenv)",
   "language": "python",
   "name": "python3"
  },
  "language_info": {
   "codemirror_mode": {
    "name": "ipython",
    "version": 3
   },
   "file_extension": ".py",
   "mimetype": "text/x-python",
   "name": "python",
   "nbconvert_exporter": "python",
   "pygments_lexer": "ipython3",
   "version": "3.8.8"
  },
  "orig_nbformat": 4
 },
 "nbformat": 4,
 "nbformat_minor": 2
}
