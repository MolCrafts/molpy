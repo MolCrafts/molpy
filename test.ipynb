{
 "cells": [
  {
   "cell_type": "code",
   "execution_count": 5,
   "metadata": {},
   "outputs": [],
   "source": [
    "import numpy as np\n",
    "import importlib\n",
    "import ase\n",
    "mp = importlib.import_module(\"molpy\")\n",
    "# from molpy.base import Node\n",
    "Atom = mp.Atom\n",
    "Group = mp.Group"
   ]
  },
  {
   "cell_type": "code",
   "execution_count": 6,
   "metadata": {},
   "outputs": [
    {
     "data": {
      "text/plain": [
       "< Bond O-H2 >"
      ]
     },
     "execution_count": 6,
     "metadata": {},
     "output_type": "execute_result"
    }
   ],
   "source": [
    "# define atoms in H2O\n",
    "H1 = Atom('H1')\n",
    "H2 = Atom('H2')\n",
    "O  = Atom('O')\n",
    "\n",
    "# define topology connection\n",
    "O.bondto(H1)\n",
    "O.bondto(H2)\n",
    "\n",
    "# define molecule\n",
    "H2O = Group('H2O')\n",
    "\n",
    "# add atoms to the molecule\n",
    "H2O.addAtoms([H1, H2, O])\n",
    "H2O.addBond(O, H1)\n",
    "H2O.addBond(O, H2)"
   ]
  },
  {
   "cell_type": "code",
   "execution_count": 7,
   "metadata": {},
   "outputs": [],
   "source": [
    "O.element = \"O\""
   ]
  },
  {
   "cell_type": "code",
   "execution_count": 8,
   "metadata": {},
   "outputs": [
    {
     "name": "stdout",
     "output_type": "stream",
     "text": [
      "<molpy.element.Element object at 0x0000027BFE669610>\n",
      "UNK1\n"
     ]
    }
   ],
   "source": [
    "print(O.element)\n",
    "O.setElement(\"UNK\")\n",
    "O.Element = \"UNK1\"\n",
    "print(O.Element)\n"
   ]
  },
  {
   "cell_type": "code",
   "execution_count": 9,
   "metadata": {},
   "outputs": [],
   "source": [
    "class B(object):\n",
    "    __slots__ = ('_fields')\n",
    "    def __init__(self):\n",
    "        self._fields = set()\n",
    "\n",
    "    @property\n",
    "    def fields(self):\n",
    "        return self._fields\n",
    "\n"
   ]
  },
  {
   "cell_type": "code",
   "execution_count": 10,
   "metadata": {},
   "outputs": [],
   "source": [
    "import ase.build.molecule"
   ]
  },
  {
   "cell_type": "code",
   "execution_count": 11,
   "metadata": {},
   "outputs": [],
   "source": [
    "mol = ase.build.molecule(\"bicyclobutane\")"
   ]
  },
  {
   "cell_type": "code",
   "execution_count": 14,
   "metadata": {},
   "outputs": [],
   "source": [
    "mol2 = mp.fromASE(mol)"
   ]
  },
  {
   "cell_type": "code",
   "execution_count": 17,
   "metadata": {},
   "outputs": [
    {
     "data": {
      "text/plain": [
       "['C', 'C', 'C', 'C', 'H', 'H', 'H', 'H', 'H', 'H']"
      ]
     },
     "execution_count": 17,
     "metadata": {},
     "output_type": "execute_result"
    }
   ],
   "source": [
    "mol2.getSymbols()"
   ]
  },
  {
   "cell_type": "code",
   "execution_count": null,
   "metadata": {},
   "outputs": [
    {
     "data": {
      "text/plain": [
       "'S'"
      ]
     },
     "execution_count": 10,
     "metadata": {},
     "output_type": "execute_result"
    }
   ],
   "source": [
    "yy.symbol"
   ]
  },
  {
   "cell_type": "code",
   "execution_count": null,
   "metadata": {},
   "outputs": [
    {
     "data": {
      "text/plain": [
       "['S', 'S', 'S', 'S', 'S', 'S', 'S', 'S', 'S', 'S']"
      ]
     },
     "execution_count": 12,
     "metadata": {},
     "output_type": "execute_result"
    }
   ],
   "source": [
    "mol2.getSymbols()"
   ]
  },
  {
   "cell_type": "code",
   "execution_count": null,
   "metadata": {},
   "outputs": [],
   "source": []
  }
 ],
 "metadata": {
  "interpreter": {
   "hash": "d07d65f069763699be100d8ef6695abb123bbb0b43bc575093d92b531a8a99e7"
  },
  "kernelspec": {
   "display_name": "Python 3.8.8 64-bit ('anaconda3': pyenv)",
   "language": "python",
   "name": "python3"
  },
  "language_info": {
   "codemirror_mode": {
    "name": "ipython",
    "version": 3
   },
   "file_extension": ".py",
   "mimetype": "text/x-python",
   "name": "python",
   "nbconvert_exporter": "python",
   "pygments_lexer": "ipython3",
   "version": "3.8.8"
  },
  "orig_nbformat": 4
 },
 "nbformat": 4,
 "nbformat_minor": 2
}
